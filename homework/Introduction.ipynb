{
 "cells": [
  {
   "cell_type": "markdown",
   "source": [
    "# Week 1 - Introduction\n",
    "\n",
    "A quick introduction to git and python.\n",
    "\n",
    "Please run through this tutorial on [how git](https://try.github.io/) functions. Further reading on git [exists here](http://swcarpentry.github.io/git-novice/).\n",
    "\n",
    "For an introduction to python programming, please follow the tutorials [here](http://swcarpentry.github.io/python-novice-inflammation/) and [here](https://swcarpentry.github.io/python-novice-gapminder/).\n",
    "\n",
    "We will cover certain aspects of python programming and specific packages throughout the course. However, at the end of these tutorials, you should be comfortable with the exercises below."
   ],
   "metadata": {}
  },
  {
   "cell_type": "code",
   "execution_count": 1,
   "source": [
    "%matplotlib inline\n",
    "import numpy as np\n",
    "from scipy.stats import ortho_group\n",
    "from sklearn import datasets\n",
    "import matplotlib.pyplot as plt"
   ],
   "outputs": [],
   "metadata": {}
  },
  {
   "cell_type": "markdown",
   "source": [
    "#### (1) Write a function that stores the first 1000 numbers of the Fibonacci sequence in a numpy array.\n",
    "\n",
    "Then write two assertions as tests of your function."
   ],
   "metadata": {}
  },
  {
   "cell_type": "code",
   "execution_count": null,
   "source": [
    "# Answer"
   ],
   "outputs": [],
   "metadata": {}
  },
  {
   "cell_type": "markdown",
   "source": [
    "#### (2) Plot the data that is imported below, labeling the X and Y axes."
   ],
   "metadata": {}
  },
  {
   "cell_type": "code",
   "execution_count": null,
   "source": [
    "boston = datasets.load_boston()\n",
    "\n",
    "y = boston.target\n",
    "x = boston.data[:, 0]\n",
    "ylabel = \"Home Prices\"\n",
    "xlabel = \"Crime\"\n",
    "\n",
    "# Answer"
   ],
   "outputs": [],
   "metadata": {}
  },
  {
   "cell_type": "markdown",
   "source": [
    "#### (3) Write a function that satisfies the assertions below."
   ],
   "metadata": {}
  },
  {
   "cell_type": "code",
   "execution_count": null,
   "source": [
    "# Function here\n",
    "\n",
    "assert(func(0, 20) == 0)\n",
    "assert(func(1, 10) == 10)\n",
    "assert(func(2, 5) == 10)\n",
    "assert(func(3, 2) == 6)\n",
    "assert(func(4, 1) == 4)"
   ],
   "outputs": [],
   "metadata": {}
  },
  {
   "cell_type": "markdown",
   "source": [
    "(4) Write an assertion to check that the following matrix is orthogonal."
   ],
   "metadata": {}
  },
  {
   "cell_type": "code",
   "execution_count": 2,
   "source": [
    "ortho_matrix = ortho_group.rvs(50)\n",
    "\n"
   ],
   "outputs": [],
   "metadata": {}
  },
  {
   "cell_type": "markdown",
   "source": [
    "#### (5) Briefly describe one skill and/or ability you would like to take away from this class."
   ],
   "metadata": {}
  },
  {
   "cell_type": "markdown",
   "source": [],
   "metadata": {}
  },
  {
   "cell_type": "markdown",
   "source": [
    "#### (6) Describe your previous experience with programming, statistics, and modeling, including courses and which languages you've used. There is no wrong answer here—this will help us better tailor the class."
   ],
   "metadata": {}
  },
  {
   "cell_type": "markdown",
   "source": [],
   "metadata": {}
  },
  {
   "cell_type": "markdown",
   "source": [
    "#### (7) Commit these files to git with a descriptive message."
   ],
   "metadata": {}
  }
 ],
 "metadata": {
  "kernel_info": {
   "name": "python3"
  },
  "kernelspec": {
   "name": "python3",
   "display_name": "Python 3.9.6 64-bit ('base': conda)"
  },
  "language_info": {
   "codemirror_mode": {
    "name": "ipython",
    "version": 3
   },
   "file_extension": ".py",
   "mimetype": "text/x-python",
   "name": "python",
   "nbconvert_exporter": "python",
   "pygments_lexer": "ipython3",
   "version": "3.9.6"
  },
  "nteract": {
   "version": "0.3.4"
  },
  "interpreter": {
   "hash": "4e5561d61fbbe62c54e6e1d2267cf075ed880fc70d78026b66400a8e2e4d547e"
  }
 },
 "nbformat": 4,
 "nbformat_minor": 2
}